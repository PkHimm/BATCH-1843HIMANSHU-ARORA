{
 "cells": [
  {
   "cell_type": "markdown",
   "id": "028c3897",
   "metadata": {},
   "source": [
    "Import Required Libraries "
   ]
  },
  {
   "cell_type": "code",
   "execution_count": 1,
   "id": "9dae352a",
   "metadata": {},
   "outputs": [],
   "source": [
    "import pandas as pd\n",
    "import numpy as np"
   ]
  },
  {
   "cell_type": "markdown",
   "id": "0bbd453e",
   "metadata": {},
   "source": [
    "import file "
   ]
  },
  {
   "cell_type": "code",
   "execution_count": 2,
   "id": "b2173b9d",
   "metadata": {},
   "outputs": [
    {
     "name": "stdout",
     "output_type": "stream",
     "text": [
      "     PassengerId  Survived  Pclass  \\\n",
      "0              1         0       3   \n",
      "1              2         1       1   \n",
      "2              3         1       3   \n",
      "3              4         1       1   \n",
      "4              5         0       3   \n",
      "..           ...       ...     ...   \n",
      "886          887         0       2   \n",
      "887          888         1       1   \n",
      "888          889         0       3   \n",
      "889          890         1       1   \n",
      "890          891         0       3   \n",
      "\n",
      "                                                  Name     Sex   Age  SibSp  \\\n",
      "0                              Braund, Mr. Owen Harris    male  22.0      1   \n",
      "1    Cumings, Mrs. John Bradley (Florence Briggs Th...  female  38.0      1   \n",
      "2                               Heikkinen, Miss. Laina  female  26.0      0   \n",
      "3         Futrelle, Mrs. Jacques Heath (Lily May Peel)  female  35.0      1   \n",
      "4                             Allen, Mr. William Henry    male  35.0      0   \n",
      "..                                                 ...     ...   ...    ...   \n",
      "886                              Montvila, Rev. Juozas    male  27.0      0   \n",
      "887                       Graham, Miss. Margaret Edith  female  19.0      0   \n",
      "888           Johnston, Miss. Catherine Helen \"Carrie\"  female   NaN      1   \n",
      "889                              Behr, Mr. Karl Howell    male  26.0      0   \n",
      "890                                Dooley, Mr. Patrick    male  32.0      0   \n",
      "\n",
      "     Parch            Ticket     Fare Cabin Embarked  \n",
      "0        0         A/5 21171   7.2500   NaN        S  \n",
      "1        0          PC 17599  71.2833   C85        C  \n",
      "2        0  STON/O2. 3101282   7.9250   NaN        S  \n",
      "3        0            113803  53.1000  C123        S  \n",
      "4        0            373450   8.0500   NaN        S  \n",
      "..     ...               ...      ...   ...      ...  \n",
      "886      0            211536  13.0000   NaN        S  \n",
      "887      0            112053  30.0000   B42        S  \n",
      "888      2        W./C. 6607  23.4500   NaN        S  \n",
      "889      0            111369  30.0000  C148        C  \n",
      "890      0            370376   7.7500   NaN        Q  \n",
      "\n",
      "[891 rows x 12 columns]\n"
     ]
    }
   ],
   "source": [
    "df=pd.read_csv('titanic_train.csv')\n",
    "print(df)"
   ]
  },
  {
   "cell_type": "code",
   "execution_count": 3,
   "id": "ebb94300",
   "metadata": {},
   "outputs": [
    {
     "data": {
      "text/html": [
       "<div>\n",
       "<style scoped>\n",
       "    .dataframe tbody tr th:only-of-type {\n",
       "        vertical-align: middle;\n",
       "    }\n",
       "\n",
       "    .dataframe tbody tr th {\n",
       "        vertical-align: top;\n",
       "    }\n",
       "\n",
       "    .dataframe thead th {\n",
       "        text-align: right;\n",
       "    }\n",
       "</style>\n",
       "<table border=\"1\" class=\"dataframe\">\n",
       "  <thead>\n",
       "    <tr style=\"text-align: right;\">\n",
       "      <th></th>\n",
       "      <th>PassengerId</th>\n",
       "      <th>Survived</th>\n",
       "      <th>Pclass</th>\n",
       "      <th>Name</th>\n",
       "      <th>Sex</th>\n",
       "      <th>Age</th>\n",
       "      <th>SibSp</th>\n",
       "      <th>Parch</th>\n",
       "      <th>Ticket</th>\n",
       "      <th>Fare</th>\n",
       "      <th>Cabin</th>\n",
       "      <th>Embarked</th>\n",
       "    </tr>\n",
       "  </thead>\n",
       "  <tbody>\n",
       "    <tr>\n",
       "      <th>0</th>\n",
       "      <td>1</td>\n",
       "      <td>0</td>\n",
       "      <td>3</td>\n",
       "      <td>Braund, Mr. Owen Harris</td>\n",
       "      <td>male</td>\n",
       "      <td>22.0</td>\n",
       "      <td>1</td>\n",
       "      <td>0</td>\n",
       "      <td>A/5 21171</td>\n",
       "      <td>7.2500</td>\n",
       "      <td>NaN</td>\n",
       "      <td>S</td>\n",
       "    </tr>\n",
       "    <tr>\n",
       "      <th>1</th>\n",
       "      <td>2</td>\n",
       "      <td>1</td>\n",
       "      <td>1</td>\n",
       "      <td>Cumings, Mrs. John Bradley (Florence Briggs Th...</td>\n",
       "      <td>female</td>\n",
       "      <td>38.0</td>\n",
       "      <td>1</td>\n",
       "      <td>0</td>\n",
       "      <td>PC 17599</td>\n",
       "      <td>71.2833</td>\n",
       "      <td>C85</td>\n",
       "      <td>C</td>\n",
       "    </tr>\n",
       "    <tr>\n",
       "      <th>2</th>\n",
       "      <td>3</td>\n",
       "      <td>1</td>\n",
       "      <td>3</td>\n",
       "      <td>Heikkinen, Miss. Laina</td>\n",
       "      <td>female</td>\n",
       "      <td>26.0</td>\n",
       "      <td>0</td>\n",
       "      <td>0</td>\n",
       "      <td>STON/O2. 3101282</td>\n",
       "      <td>7.9250</td>\n",
       "      <td>NaN</td>\n",
       "      <td>S</td>\n",
       "    </tr>\n",
       "    <tr>\n",
       "      <th>3</th>\n",
       "      <td>4</td>\n",
       "      <td>1</td>\n",
       "      <td>1</td>\n",
       "      <td>Futrelle, Mrs. Jacques Heath (Lily May Peel)</td>\n",
       "      <td>female</td>\n",
       "      <td>35.0</td>\n",
       "      <td>1</td>\n",
       "      <td>0</td>\n",
       "      <td>113803</td>\n",
       "      <td>53.1000</td>\n",
       "      <td>C123</td>\n",
       "      <td>S</td>\n",
       "    </tr>\n",
       "    <tr>\n",
       "      <th>4</th>\n",
       "      <td>5</td>\n",
       "      <td>0</td>\n",
       "      <td>3</td>\n",
       "      <td>Allen, Mr. William Henry</td>\n",
       "      <td>male</td>\n",
       "      <td>35.0</td>\n",
       "      <td>0</td>\n",
       "      <td>0</td>\n",
       "      <td>373450</td>\n",
       "      <td>8.0500</td>\n",
       "      <td>NaN</td>\n",
       "      <td>S</td>\n",
       "    </tr>\n",
       "  </tbody>\n",
       "</table>\n",
       "</div>"
      ],
      "text/plain": [
       "   PassengerId  Survived  Pclass  \\\n",
       "0            1         0       3   \n",
       "1            2         1       1   \n",
       "2            3         1       3   \n",
       "3            4         1       1   \n",
       "4            5         0       3   \n",
       "\n",
       "                                                Name     Sex   Age  SibSp  \\\n",
       "0                            Braund, Mr. Owen Harris    male  22.0      1   \n",
       "1  Cumings, Mrs. John Bradley (Florence Briggs Th...  female  38.0      1   \n",
       "2                             Heikkinen, Miss. Laina  female  26.0      0   \n",
       "3       Futrelle, Mrs. Jacques Heath (Lily May Peel)  female  35.0      1   \n",
       "4                           Allen, Mr. William Henry    male  35.0      0   \n",
       "\n",
       "   Parch            Ticket     Fare Cabin Embarked  \n",
       "0      0         A/5 21171   7.2500   NaN        S  \n",
       "1      0          PC 17599  71.2833   C85        C  \n",
       "2      0  STON/O2. 3101282   7.9250   NaN        S  \n",
       "3      0            113803  53.1000  C123        S  \n",
       "4      0            373450   8.0500   NaN        S  "
      ]
     },
     "execution_count": 3,
     "metadata": {},
     "output_type": "execute_result"
    }
   ],
   "source": [
    "df.head()"
   ]
  },
  {
   "cell_type": "markdown",
   "id": "e428e3b6",
   "metadata": {},
   "source": [
    "The above function is used to access the first 5 rows of a dataframe."
   ]
  },
  {
   "cell_type": "markdown",
   "id": "03c7902f",
   "metadata": {},
   "source": [
    "The below function is used to access the last 5 rows of a dataframe."
   ]
  },
  {
   "cell_type": "code",
   "execution_count": 4,
   "id": "1b102e4e",
   "metadata": {},
   "outputs": [
    {
     "data": {
      "text/html": [
       "<div>\n",
       "<style scoped>\n",
       "    .dataframe tbody tr th:only-of-type {\n",
       "        vertical-align: middle;\n",
       "    }\n",
       "\n",
       "    .dataframe tbody tr th {\n",
       "        vertical-align: top;\n",
       "    }\n",
       "\n",
       "    .dataframe thead th {\n",
       "        text-align: right;\n",
       "    }\n",
       "</style>\n",
       "<table border=\"1\" class=\"dataframe\">\n",
       "  <thead>\n",
       "    <tr style=\"text-align: right;\">\n",
       "      <th></th>\n",
       "      <th>PassengerId</th>\n",
       "      <th>Survived</th>\n",
       "      <th>Pclass</th>\n",
       "      <th>Name</th>\n",
       "      <th>Sex</th>\n",
       "      <th>Age</th>\n",
       "      <th>SibSp</th>\n",
       "      <th>Parch</th>\n",
       "      <th>Ticket</th>\n",
       "      <th>Fare</th>\n",
       "      <th>Cabin</th>\n",
       "      <th>Embarked</th>\n",
       "    </tr>\n",
       "  </thead>\n",
       "  <tbody>\n",
       "    <tr>\n",
       "      <th>886</th>\n",
       "      <td>887</td>\n",
       "      <td>0</td>\n",
       "      <td>2</td>\n",
       "      <td>Montvila, Rev. Juozas</td>\n",
       "      <td>male</td>\n",
       "      <td>27.0</td>\n",
       "      <td>0</td>\n",
       "      <td>0</td>\n",
       "      <td>211536</td>\n",
       "      <td>13.00</td>\n",
       "      <td>NaN</td>\n",
       "      <td>S</td>\n",
       "    </tr>\n",
       "    <tr>\n",
       "      <th>887</th>\n",
       "      <td>888</td>\n",
       "      <td>1</td>\n",
       "      <td>1</td>\n",
       "      <td>Graham, Miss. Margaret Edith</td>\n",
       "      <td>female</td>\n",
       "      <td>19.0</td>\n",
       "      <td>0</td>\n",
       "      <td>0</td>\n",
       "      <td>112053</td>\n",
       "      <td>30.00</td>\n",
       "      <td>B42</td>\n",
       "      <td>S</td>\n",
       "    </tr>\n",
       "    <tr>\n",
       "      <th>888</th>\n",
       "      <td>889</td>\n",
       "      <td>0</td>\n",
       "      <td>3</td>\n",
       "      <td>Johnston, Miss. Catherine Helen \"Carrie\"</td>\n",
       "      <td>female</td>\n",
       "      <td>NaN</td>\n",
       "      <td>1</td>\n",
       "      <td>2</td>\n",
       "      <td>W./C. 6607</td>\n",
       "      <td>23.45</td>\n",
       "      <td>NaN</td>\n",
       "      <td>S</td>\n",
       "    </tr>\n",
       "    <tr>\n",
       "      <th>889</th>\n",
       "      <td>890</td>\n",
       "      <td>1</td>\n",
       "      <td>1</td>\n",
       "      <td>Behr, Mr. Karl Howell</td>\n",
       "      <td>male</td>\n",
       "      <td>26.0</td>\n",
       "      <td>0</td>\n",
       "      <td>0</td>\n",
       "      <td>111369</td>\n",
       "      <td>30.00</td>\n",
       "      <td>C148</td>\n",
       "      <td>C</td>\n",
       "    </tr>\n",
       "    <tr>\n",
       "      <th>890</th>\n",
       "      <td>891</td>\n",
       "      <td>0</td>\n",
       "      <td>3</td>\n",
       "      <td>Dooley, Mr. Patrick</td>\n",
       "      <td>male</td>\n",
       "      <td>32.0</td>\n",
       "      <td>0</td>\n",
       "      <td>0</td>\n",
       "      <td>370376</td>\n",
       "      <td>7.75</td>\n",
       "      <td>NaN</td>\n",
       "      <td>Q</td>\n",
       "    </tr>\n",
       "  </tbody>\n",
       "</table>\n",
       "</div>"
      ],
      "text/plain": [
       "     PassengerId  Survived  Pclass                                      Name  \\\n",
       "886          887         0       2                     Montvila, Rev. Juozas   \n",
       "887          888         1       1              Graham, Miss. Margaret Edith   \n",
       "888          889         0       3  Johnston, Miss. Catherine Helen \"Carrie\"   \n",
       "889          890         1       1                     Behr, Mr. Karl Howell   \n",
       "890          891         0       3                       Dooley, Mr. Patrick   \n",
       "\n",
       "        Sex   Age  SibSp  Parch      Ticket   Fare Cabin Embarked  \n",
       "886    male  27.0      0      0      211536  13.00   NaN        S  \n",
       "887  female  19.0      0      0      112053  30.00   B42        S  \n",
       "888  female   NaN      1      2  W./C. 6607  23.45   NaN        S  \n",
       "889    male  26.0      0      0      111369  30.00  C148        C  \n",
       "890    male  32.0      0      0      370376   7.75   NaN        Q  "
      ]
     },
     "execution_count": 4,
     "metadata": {},
     "output_type": "execute_result"
    }
   ],
   "source": [
    "df.tail()"
   ]
  },
  {
   "cell_type": "code",
   "execution_count": 5,
   "id": "e000ac2d",
   "metadata": {},
   "outputs": [
    {
     "data": {
      "text/html": [
       "<div>\n",
       "<style scoped>\n",
       "    .dataframe tbody tr th:only-of-type {\n",
       "        vertical-align: middle;\n",
       "    }\n",
       "\n",
       "    .dataframe tbody tr th {\n",
       "        vertical-align: top;\n",
       "    }\n",
       "\n",
       "    .dataframe thead th {\n",
       "        text-align: right;\n",
       "    }\n",
       "</style>\n",
       "<table border=\"1\" class=\"dataframe\">\n",
       "  <thead>\n",
       "    <tr style=\"text-align: right;\">\n",
       "      <th></th>\n",
       "      <th>PassengerId</th>\n",
       "      <th>Survived</th>\n",
       "      <th>Pclass</th>\n",
       "      <th>Name</th>\n",
       "      <th>Sex</th>\n",
       "      <th>Age</th>\n",
       "      <th>SibSp</th>\n",
       "      <th>Parch</th>\n",
       "      <th>Ticket</th>\n",
       "      <th>Fare</th>\n",
       "      <th>Cabin</th>\n",
       "      <th>Embarked</th>\n",
       "    </tr>\n",
       "  </thead>\n",
       "  <tbody>\n",
       "    <tr>\n",
       "      <th>0</th>\n",
       "      <td>False</td>\n",
       "      <td>False</td>\n",
       "      <td>False</td>\n",
       "      <td>False</td>\n",
       "      <td>False</td>\n",
       "      <td>False</td>\n",
       "      <td>False</td>\n",
       "      <td>False</td>\n",
       "      <td>False</td>\n",
       "      <td>False</td>\n",
       "      <td>True</td>\n",
       "      <td>False</td>\n",
       "    </tr>\n",
       "    <tr>\n",
       "      <th>1</th>\n",
       "      <td>False</td>\n",
       "      <td>False</td>\n",
       "      <td>False</td>\n",
       "      <td>False</td>\n",
       "      <td>False</td>\n",
       "      <td>False</td>\n",
       "      <td>False</td>\n",
       "      <td>False</td>\n",
       "      <td>False</td>\n",
       "      <td>False</td>\n",
       "      <td>False</td>\n",
       "      <td>False</td>\n",
       "    </tr>\n",
       "    <tr>\n",
       "      <th>2</th>\n",
       "      <td>False</td>\n",
       "      <td>False</td>\n",
       "      <td>False</td>\n",
       "      <td>False</td>\n",
       "      <td>False</td>\n",
       "      <td>False</td>\n",
       "      <td>False</td>\n",
       "      <td>False</td>\n",
       "      <td>False</td>\n",
       "      <td>False</td>\n",
       "      <td>True</td>\n",
       "      <td>False</td>\n",
       "    </tr>\n",
       "    <tr>\n",
       "      <th>3</th>\n",
       "      <td>False</td>\n",
       "      <td>False</td>\n",
       "      <td>False</td>\n",
       "      <td>False</td>\n",
       "      <td>False</td>\n",
       "      <td>False</td>\n",
       "      <td>False</td>\n",
       "      <td>False</td>\n",
       "      <td>False</td>\n",
       "      <td>False</td>\n",
       "      <td>False</td>\n",
       "      <td>False</td>\n",
       "    </tr>\n",
       "    <tr>\n",
       "      <th>4</th>\n",
       "      <td>False</td>\n",
       "      <td>False</td>\n",
       "      <td>False</td>\n",
       "      <td>False</td>\n",
       "      <td>False</td>\n",
       "      <td>False</td>\n",
       "      <td>False</td>\n",
       "      <td>False</td>\n",
       "      <td>False</td>\n",
       "      <td>False</td>\n",
       "      <td>True</td>\n",
       "      <td>False</td>\n",
       "    </tr>\n",
       "    <tr>\n",
       "      <th>...</th>\n",
       "      <td>...</td>\n",
       "      <td>...</td>\n",
       "      <td>...</td>\n",
       "      <td>...</td>\n",
       "      <td>...</td>\n",
       "      <td>...</td>\n",
       "      <td>...</td>\n",
       "      <td>...</td>\n",
       "      <td>...</td>\n",
       "      <td>...</td>\n",
       "      <td>...</td>\n",
       "      <td>...</td>\n",
       "    </tr>\n",
       "    <tr>\n",
       "      <th>886</th>\n",
       "      <td>False</td>\n",
       "      <td>False</td>\n",
       "      <td>False</td>\n",
       "      <td>False</td>\n",
       "      <td>False</td>\n",
       "      <td>False</td>\n",
       "      <td>False</td>\n",
       "      <td>False</td>\n",
       "      <td>False</td>\n",
       "      <td>False</td>\n",
       "      <td>True</td>\n",
       "      <td>False</td>\n",
       "    </tr>\n",
       "    <tr>\n",
       "      <th>887</th>\n",
       "      <td>False</td>\n",
       "      <td>False</td>\n",
       "      <td>False</td>\n",
       "      <td>False</td>\n",
       "      <td>False</td>\n",
       "      <td>False</td>\n",
       "      <td>False</td>\n",
       "      <td>False</td>\n",
       "      <td>False</td>\n",
       "      <td>False</td>\n",
       "      <td>False</td>\n",
       "      <td>False</td>\n",
       "    </tr>\n",
       "    <tr>\n",
       "      <th>888</th>\n",
       "      <td>False</td>\n",
       "      <td>False</td>\n",
       "      <td>False</td>\n",
       "      <td>False</td>\n",
       "      <td>False</td>\n",
       "      <td>True</td>\n",
       "      <td>False</td>\n",
       "      <td>False</td>\n",
       "      <td>False</td>\n",
       "      <td>False</td>\n",
       "      <td>True</td>\n",
       "      <td>False</td>\n",
       "    </tr>\n",
       "    <tr>\n",
       "      <th>889</th>\n",
       "      <td>False</td>\n",
       "      <td>False</td>\n",
       "      <td>False</td>\n",
       "      <td>False</td>\n",
       "      <td>False</td>\n",
       "      <td>False</td>\n",
       "      <td>False</td>\n",
       "      <td>False</td>\n",
       "      <td>False</td>\n",
       "      <td>False</td>\n",
       "      <td>False</td>\n",
       "      <td>False</td>\n",
       "    </tr>\n",
       "    <tr>\n",
       "      <th>890</th>\n",
       "      <td>False</td>\n",
       "      <td>False</td>\n",
       "      <td>False</td>\n",
       "      <td>False</td>\n",
       "      <td>False</td>\n",
       "      <td>False</td>\n",
       "      <td>False</td>\n",
       "      <td>False</td>\n",
       "      <td>False</td>\n",
       "      <td>False</td>\n",
       "      <td>True</td>\n",
       "      <td>False</td>\n",
       "    </tr>\n",
       "  </tbody>\n",
       "</table>\n",
       "<p>891 rows × 12 columns</p>\n",
       "</div>"
      ],
      "text/plain": [
       "     PassengerId  Survived  Pclass   Name    Sex    Age  SibSp  Parch  Ticket  \\\n",
       "0          False     False   False  False  False  False  False  False   False   \n",
       "1          False     False   False  False  False  False  False  False   False   \n",
       "2          False     False   False  False  False  False  False  False   False   \n",
       "3          False     False   False  False  False  False  False  False   False   \n",
       "4          False     False   False  False  False  False  False  False   False   \n",
       "..           ...       ...     ...    ...    ...    ...    ...    ...     ...   \n",
       "886        False     False   False  False  False  False  False  False   False   \n",
       "887        False     False   False  False  False  False  False  False   False   \n",
       "888        False     False   False  False  False   True  False  False   False   \n",
       "889        False     False   False  False  False  False  False  False   False   \n",
       "890        False     False   False  False  False  False  False  False   False   \n",
       "\n",
       "      Fare  Cabin  Embarked  \n",
       "0    False   True     False  \n",
       "1    False  False     False  \n",
       "2    False   True     False  \n",
       "3    False  False     False  \n",
       "4    False   True     False  \n",
       "..     ...    ...       ...  \n",
       "886  False   True     False  \n",
       "887  False  False     False  \n",
       "888  False   True     False  \n",
       "889  False  False     False  \n",
       "890  False   True     False  \n",
       "\n",
       "[891 rows x 12 columns]"
      ]
     },
     "execution_count": 5,
     "metadata": {},
     "output_type": "execute_result"
    }
   ],
   "source": [
    "df.isnull()"
   ]
  },
  {
   "cell_type": "code",
   "execution_count": 6,
   "id": "45a2f5f0",
   "metadata": {},
   "outputs": [
    {
     "data": {
      "text/plain": [
       "PassengerId      0\n",
       "Survived         0\n",
       "Pclass           0\n",
       "Name             0\n",
       "Sex              0\n",
       "Age            177\n",
       "SibSp            0\n",
       "Parch            0\n",
       "Ticket           0\n",
       "Fare             0\n",
       "Cabin          687\n",
       "Embarked         2\n",
       "dtype: int64"
      ]
     },
     "execution_count": 6,
     "metadata": {},
     "output_type": "execute_result"
    }
   ],
   "source": [
    "df.isnull().sum()"
   ]
  },
  {
   "cell_type": "markdown",
   "id": "0fd95222",
   "metadata": {},
   "source": [
    "This function gives information about any data is missing or Not."
   ]
  },
  {
   "cell_type": "code",
   "execution_count": 7,
   "id": "fbdc554a",
   "metadata": {},
   "outputs": [
    {
     "data": {
      "text/plain": [
       "PassengerId    False\n",
       "Survived       False\n",
       "Pclass         False\n",
       "Name           False\n",
       "Sex            False\n",
       "Age             True\n",
       "SibSp          False\n",
       "Parch          False\n",
       "Ticket         False\n",
       "Fare           False\n",
       "Cabin           True\n",
       "Embarked        True\n",
       "dtype: bool"
      ]
     },
     "execution_count": 7,
     "metadata": {},
     "output_type": "execute_result"
    }
   ],
   "source": [
    "df.isnull().any()"
   ]
  },
  {
   "cell_type": "markdown",
   "id": "db3e3319",
   "metadata": {},
   "source": [
    "This function gives information about any Null Value is present in our Data frame. if all the values are False as shown above then we say there is not any null value is present in our data frame."
   ]
  },
  {
   "cell_type": "code",
   "execution_count": 8,
   "id": "533d3644",
   "metadata": {},
   "outputs": [],
   "source": [
    "df1=df.drop(columns='Cabin',axis=1)"
   ]
  },
  {
   "cell_type": "code",
   "execution_count": 9,
   "id": "227897ee",
   "metadata": {},
   "outputs": [],
   "source": [
    "df1['Age'].fillna(df1['Age'].mean(), inplace=True)"
   ]
  },
  {
   "cell_type": "code",
   "execution_count": 10,
   "id": "f697c520",
   "metadata": {},
   "outputs": [
    {
     "name": "stdout",
     "output_type": "stream",
     "text": [
      "0    S\n",
      "dtype: object\n"
     ]
    }
   ],
   "source": [
    "print(df1['Embarked'].mode())"
   ]
  },
  {
   "cell_type": "markdown",
   "id": "2467bdd8",
   "metadata": {},
   "source": [
    "from above input we conclude that, S type of value is more as compare to C"
   ]
  },
  {
   "cell_type": "code",
   "execution_count": 11,
   "id": "cd7453c6",
   "metadata": {},
   "outputs": [],
   "source": [
    "df1['Embarked'].fillna(df1['Embarked'].mode()[0], inplace=True)"
   ]
  },
  {
   "cell_type": "code",
   "execution_count": 12,
   "id": "2f7611ad",
   "metadata": {},
   "outputs": [
    {
     "data": {
      "text/plain": [
       "PassengerId    False\n",
       "Survived       False\n",
       "Pclass         False\n",
       "Name           False\n",
       "Sex            False\n",
       "Age            False\n",
       "SibSp          False\n",
       "Parch          False\n",
       "Ticket         False\n",
       "Fare           False\n",
       "Embarked       False\n",
       "dtype: bool"
      ]
     },
     "execution_count": 12,
     "metadata": {},
     "output_type": "execute_result"
    }
   ],
   "source": [
    "df1.isnull().any()"
   ]
  },
  {
   "cell_type": "code",
   "execution_count": 13,
   "id": "3a0beff1",
   "metadata": {},
   "outputs": [
    {
     "name": "stdout",
     "output_type": "stream",
     "text": [
      "<class 'pandas.core.frame.DataFrame'>\n",
      "RangeIndex: 891 entries, 0 to 890\n",
      "Data columns (total 11 columns):\n",
      " #   Column       Non-Null Count  Dtype  \n",
      "---  ------       --------------  -----  \n",
      " 0   PassengerId  891 non-null    int64  \n",
      " 1   Survived     891 non-null    int64  \n",
      " 2   Pclass       891 non-null    int64  \n",
      " 3   Name         891 non-null    object \n",
      " 4   Sex          891 non-null    object \n",
      " 5   Age          891 non-null    float64\n",
      " 6   SibSp        891 non-null    int64  \n",
      " 7   Parch        891 non-null    int64  \n",
      " 8   Ticket       891 non-null    object \n",
      " 9   Fare         891 non-null    float64\n",
      " 10  Embarked     891 non-null    object \n",
      "dtypes: float64(2), int64(5), object(4)\n",
      "memory usage: 76.7+ KB\n"
     ]
    }
   ],
   "source": [
    "df1.info()"
   ]
  },
  {
   "cell_type": "markdown",
   "id": "03e9cbb8",
   "metadata": {},
   "source": [
    "This function is used to print the information given in our Dataframe. This function gives information about the Data type(float, object, int), columns."
   ]
  },
  {
   "cell_type": "code",
   "execution_count": 14,
   "id": "92e8a31a",
   "metadata": {},
   "outputs": [
    {
     "data": {
      "text/plain": [
       "PassengerId    0\n",
       "Survived       0\n",
       "Pclass         0\n",
       "Name           0\n",
       "Sex            0\n",
       "Age            0\n",
       "SibSp          0\n",
       "Parch          0\n",
       "Ticket         0\n",
       "Fare           0\n",
       "Embarked       0\n",
       "dtype: int64"
      ]
     },
     "execution_count": 14,
     "metadata": {},
     "output_type": "execute_result"
    }
   ],
   "source": [
    "df1.isnull().sum()"
   ]
  },
  {
   "cell_type": "code",
   "execution_count": 15,
   "id": "b4763b57",
   "metadata": {},
   "outputs": [
    {
     "data": {
      "text/html": [
       "<div>\n",
       "<style scoped>\n",
       "    .dataframe tbody tr th:only-of-type {\n",
       "        vertical-align: middle;\n",
       "    }\n",
       "\n",
       "    .dataframe tbody tr th {\n",
       "        vertical-align: top;\n",
       "    }\n",
       "\n",
       "    .dataframe thead th {\n",
       "        text-align: right;\n",
       "    }\n",
       "</style>\n",
       "<table border=\"1\" class=\"dataframe\">\n",
       "  <thead>\n",
       "    <tr style=\"text-align: right;\">\n",
       "      <th></th>\n",
       "      <th>PassengerId</th>\n",
       "      <th>Survived</th>\n",
       "      <th>Pclass</th>\n",
       "      <th>Age</th>\n",
       "      <th>SibSp</th>\n",
       "      <th>Parch</th>\n",
       "      <th>Fare</th>\n",
       "    </tr>\n",
       "  </thead>\n",
       "  <tbody>\n",
       "    <tr>\n",
       "      <th>count</th>\n",
       "      <td>891.000000</td>\n",
       "      <td>891.000000</td>\n",
       "      <td>891.000000</td>\n",
       "      <td>891.000000</td>\n",
       "      <td>891.000000</td>\n",
       "      <td>891.000000</td>\n",
       "      <td>891.000000</td>\n",
       "    </tr>\n",
       "    <tr>\n",
       "      <th>mean</th>\n",
       "      <td>446.000000</td>\n",
       "      <td>0.383838</td>\n",
       "      <td>2.308642</td>\n",
       "      <td>29.699118</td>\n",
       "      <td>0.523008</td>\n",
       "      <td>0.381594</td>\n",
       "      <td>32.204208</td>\n",
       "    </tr>\n",
       "    <tr>\n",
       "      <th>std</th>\n",
       "      <td>257.353842</td>\n",
       "      <td>0.486592</td>\n",
       "      <td>0.836071</td>\n",
       "      <td>13.002015</td>\n",
       "      <td>1.102743</td>\n",
       "      <td>0.806057</td>\n",
       "      <td>49.693429</td>\n",
       "    </tr>\n",
       "    <tr>\n",
       "      <th>min</th>\n",
       "      <td>1.000000</td>\n",
       "      <td>0.000000</td>\n",
       "      <td>1.000000</td>\n",
       "      <td>0.420000</td>\n",
       "      <td>0.000000</td>\n",
       "      <td>0.000000</td>\n",
       "      <td>0.000000</td>\n",
       "    </tr>\n",
       "    <tr>\n",
       "      <th>25%</th>\n",
       "      <td>223.500000</td>\n",
       "      <td>0.000000</td>\n",
       "      <td>2.000000</td>\n",
       "      <td>22.000000</td>\n",
       "      <td>0.000000</td>\n",
       "      <td>0.000000</td>\n",
       "      <td>7.910400</td>\n",
       "    </tr>\n",
       "    <tr>\n",
       "      <th>50%</th>\n",
       "      <td>446.000000</td>\n",
       "      <td>0.000000</td>\n",
       "      <td>3.000000</td>\n",
       "      <td>29.699118</td>\n",
       "      <td>0.000000</td>\n",
       "      <td>0.000000</td>\n",
       "      <td>14.454200</td>\n",
       "    </tr>\n",
       "    <tr>\n",
       "      <th>75%</th>\n",
       "      <td>668.500000</td>\n",
       "      <td>1.000000</td>\n",
       "      <td>3.000000</td>\n",
       "      <td>35.000000</td>\n",
       "      <td>1.000000</td>\n",
       "      <td>0.000000</td>\n",
       "      <td>31.000000</td>\n",
       "    </tr>\n",
       "    <tr>\n",
       "      <th>max</th>\n",
       "      <td>891.000000</td>\n",
       "      <td>1.000000</td>\n",
       "      <td>3.000000</td>\n",
       "      <td>80.000000</td>\n",
       "      <td>8.000000</td>\n",
       "      <td>6.000000</td>\n",
       "      <td>512.329200</td>\n",
       "    </tr>\n",
       "  </tbody>\n",
       "</table>\n",
       "</div>"
      ],
      "text/plain": [
       "       PassengerId    Survived      Pclass         Age       SibSp  \\\n",
       "count   891.000000  891.000000  891.000000  891.000000  891.000000   \n",
       "mean    446.000000    0.383838    2.308642   29.699118    0.523008   \n",
       "std     257.353842    0.486592    0.836071   13.002015    1.102743   \n",
       "min       1.000000    0.000000    1.000000    0.420000    0.000000   \n",
       "25%     223.500000    0.000000    2.000000   22.000000    0.000000   \n",
       "50%     446.000000    0.000000    3.000000   29.699118    0.000000   \n",
       "75%     668.500000    1.000000    3.000000   35.000000    1.000000   \n",
       "max     891.000000    1.000000    3.000000   80.000000    8.000000   \n",
       "\n",
       "            Parch        Fare  \n",
       "count  891.000000  891.000000  \n",
       "mean     0.381594   32.204208  \n",
       "std      0.806057   49.693429  \n",
       "min      0.000000    0.000000  \n",
       "25%      0.000000    7.910400  \n",
       "50%      0.000000   14.454200  \n",
       "75%      0.000000   31.000000  \n",
       "max      6.000000  512.329200  "
      ]
     },
     "execution_count": 15,
     "metadata": {},
     "output_type": "execute_result"
    }
   ],
   "source": [
    "df1.describe()"
   ]
  },
  {
   "cell_type": "markdown",
   "id": "94f00673",
   "metadata": {},
   "source": [
    "This function gives information about the Description of our Data Frame."
   ]
  },
  {
   "cell_type": "code",
   "execution_count": 16,
   "id": "57164f86",
   "metadata": {},
   "outputs": [
    {
     "data": {
      "text/plain": [
       "0    549\n",
       "1    342\n",
       "Name: Survived, dtype: int64"
      ]
     },
     "execution_count": 16,
     "metadata": {},
     "output_type": "execute_result"
    }
   ],
   "source": [
    "df1['Survived'].value_counts()"
   ]
  },
  {
   "cell_type": "markdown",
   "id": "9b1f2aa5",
   "metadata": {},
   "source": [
    "As we know that,0 indicate here that people are not Survived and 1 indicate that people are survived. The number of count of people not survived is more as compare to Survived people. "
   ]
  },
  {
   "cell_type": "markdown",
   "id": "b7c91eb2",
   "metadata": {},
   "source": [
    "import main Libraries to plot the graph"
   ]
  },
  {
   "cell_type": "code",
   "execution_count": 49,
   "id": "8e7edef7",
   "metadata": {},
   "outputs": [],
   "source": [
    "import matplotlib.pyplot as plt\n",
    "import seaborn as sns"
   ]
  },
  {
   "cell_type": "code",
   "execution_count": 50,
   "id": "9c84979c",
   "metadata": {},
   "outputs": [],
   "source": [
    "sns.set()"
   ]
  },
  {
   "cell_type": "code",
   "execution_count": 51,
   "id": "7c6bb5a3",
   "metadata": {},
   "outputs": [
    {
     "name": "stderr",
     "output_type": "stream",
     "text": [
      "C:\\Users\\DELL\\anaconda3\\lib\\site-packages\\seaborn\\_decorators.py:36: FutureWarning: Pass the following variable as a keyword arg: x. From version 0.12, the only valid positional argument will be `data`, and passing other arguments without an explicit keyword will result in an error or misinterpretation.\n",
      "  warnings.warn(\n"
     ]
    },
    {
     "data": {
      "text/plain": [
       "<AxesSubplot:xlabel='Survived', ylabel='count'>"
      ]
     },
     "execution_count": 51,
     "metadata": {},
     "output_type": "execute_result"
    },
    {
     "data": {
      "image/png": "[encoded data removed]",
      "text/plain": [
       "<Figure size 432x288 with 1 Axes>"
      ]
     },
     "metadata": {},
     "output_type": "display_data"
    }
   ],
   "source": [
    "sns.countplot('Survived', data=df1)"
   ]
  },
  {
   "cell_type": "markdown",
   "id": "401e4bbd",
   "metadata": {},
   "source": [
    "in countplot we find, the no of people survived or not (Here, 0 represent people not survived and 1 represent people survived.) "
   ]
  },
  {
   "cell_type": "code",
   "execution_count": 52,
   "id": "48c93ff7",
   "metadata": {},
   "outputs": [
    {
     "data": {
      "text/plain": [
       "0    577\n",
       "1    314\n",
       "Name: Sex, dtype: int64"
      ]
     },
     "execution_count": 52,
     "metadata": {},
     "output_type": "execute_result"
    }
   ],
   "source": [
    "df1['Sex'].value_counts()"
   ]
  },
  {
   "cell_type": "code",
   "execution_count": null,
   "id": "7d176d8a",
   "metadata": {},
   "outputs": [],
   "source": [
    "with the help of value_count function, we find how many male or female members survived or not survived.(Here, 0 represent people not survived and 1 represent people survived.)"
   ]
  },
  {
   "cell_type": "code",
   "execution_count": 53,
   "id": "8c85186d",
   "metadata": {},
   "outputs": [
    {
     "name": "stderr",
     "output_type": "stream",
     "text": [
      "C:\\Users\\DELL\\anaconda3\\lib\\site-packages\\seaborn\\_decorators.py:36: FutureWarning: Pass the following variable as a keyword arg: x. From version 0.12, the only valid positional argument will be `data`, and passing other arguments without an explicit keyword will result in an error or misinterpretation.\n",
      "  warnings.warn(\n"
     ]
    },
    {
     "data": {
      "text/plain": [
       "<AxesSubplot:xlabel='Sex', ylabel='count'>"
      ]
     },
     "execution_count": 53,
     "metadata": {},
     "output_type": "execute_result"
    },
    {
     "data": {
      "image/png": "[encoded data removed]",
      "text/plain": [
       "<Figure size 432x288 with 1 Axes>"
      ]
     },
     "metadata": {},
     "output_type": "display_data"
    }
   ],
   "source": [
    "sns.countplot('Sex', data=df1)"
   ]
  },
  {
   "cell_type": "markdown",
   "id": "02e1949b",
   "metadata": {},
   "source": [
    "here 0 represent male members, and 1 represent female members. "
   ]
  },
  {
   "cell_type": "code",
   "execution_count": 54,
   "id": "347afaae",
   "metadata": {},
   "outputs": [
    {
     "name": "stderr",
     "output_type": "stream",
     "text": [
      "C:\\Users\\DELL\\anaconda3\\lib\\site-packages\\seaborn\\_decorators.py:36: FutureWarning: Pass the following variable as a keyword arg: x. From version 0.12, the only valid positional argument will be `data`, and passing other arguments without an explicit keyword will result in an error or misinterpretation.\n",
      "  warnings.warn(\n"
     ]
    },
    {
     "data": {
      "text/plain": [
       "<AxesSubplot:xlabel='Sex', ylabel='count'>"
      ]
     },
     "execution_count": 54,
     "metadata": {},
     "output_type": "execute_result"
    },
    {
     "data": {
      "image/png": "[encoded data removed]",
      "text/plain": [
       "<Figure size 432x288 with 1 Axes>"
      ]
     },
     "metadata": {},
     "output_type": "display_data"
    }
   ],
   "source": [
    "sns.countplot('Sex', data=df1, hue='Survived')"
   ]
  },
  {
   "cell_type": "markdown",
   "id": "6f6ba1af",
   "metadata": {},
   "source": [
    "here 0 represent male members and it goes 400+ but as we compare to female members it is less than 100, but one thing notice here that female members and children are more safer as compare to male members. "
   ]
  },
  {
   "cell_type": "code",
   "execution_count": 55,
   "id": "38139d52",
   "metadata": {},
   "outputs": [
    {
     "data": {
      "text/plain": [
       "3    491\n",
       "1    216\n",
       "2    184\n",
       "Name: Pclass, dtype: int64"
      ]
     },
     "execution_count": 55,
     "metadata": {},
     "output_type": "execute_result"
    }
   ],
   "source": [
    "df1['Pclass'].value_counts()"
   ]
  },
  {
   "cell_type": "markdown",
   "id": "b4b32cb6",
   "metadata": {},
   "source": [
    "In the above input, we find the pclass numbers as we done above input in sex column.  "
   ]
  },
  {
   "cell_type": "code",
   "execution_count": 56,
   "id": "ccf1035a",
   "metadata": {},
   "outputs": [
    {
     "name": "stderr",
     "output_type": "stream",
     "text": [
      "C:\\Users\\DELL\\anaconda3\\lib\\site-packages\\seaborn\\_decorators.py:36: FutureWarning: Pass the following variable as a keyword arg: x. From version 0.12, the only valid positional argument will be `data`, and passing other arguments without an explicit keyword will result in an error or misinterpretation.\n",
      "  warnings.warn(\n"
     ]
    },
    {
     "data": {
      "text/plain": [
       "<AxesSubplot:xlabel='Pclass', ylabel='count'>"
      ]
     },
     "execution_count": 56,
     "metadata": {},
     "output_type": "execute_result"
    },
    {
     "data": {
      "image/png": "[encoded data removed]",
      "text/plain": [
       "<Figure size 432x288 with 1 Axes>"
      ]
     },
     "metadata": {},
     "output_type": "display_data"
    }
   ],
   "source": [
    "sns.countplot('Pclass', data=df1)"
   ]
  },
  {
   "cell_type": "markdown",
   "id": "401b0cfb",
   "metadata": {},
   "source": [
    "the above diagram shows, the value of pclass which is divide in 1,2 & 3."
   ]
  },
  {
   "cell_type": "code",
   "execution_count": 57,
   "id": "2839a600",
   "metadata": {},
   "outputs": [
    {
     "name": "stderr",
     "output_type": "stream",
     "text": [
      "C:\\Users\\DELL\\anaconda3\\lib\\site-packages\\seaborn\\_decorators.py:36: FutureWarning: Pass the following variable as a keyword arg: x. From version 0.12, the only valid positional argument will be `data`, and passing other arguments without an explicit keyword will result in an error or misinterpretation.\n",
      "  warnings.warn(\n"
     ]
    },
    {
     "data": {
      "text/plain": [
       "<AxesSubplot:xlabel='Pclass', ylabel='count'>"
      ]
     },
     "execution_count": 57,
     "metadata": {},
     "output_type": "execute_result"
    },
    {
     "data": {
      "image/png": "[encoded data removed]",
      "text/plain": [
       "<Figure size 432x288 with 1 Axes>"
      ]
     },
     "metadata": {},
     "output_type": "display_data"
    }
   ],
   "source": [
    "sns.countplot('Pclass', data=df1, hue='Survived')"
   ]
  },
  {
   "cell_type": "markdown",
   "id": "38264182",
   "metadata": {},
   "source": [
    "The above input shows, pclass value which is survived or not(Here, 0 represent people not survived and 1 represent people survived.)"
   ]
  },
  {
   "cell_type": "code",
   "execution_count": 58,
   "id": "ccdc48e7",
   "metadata": {},
   "outputs": [
    {
     "data": {
      "text/plain": [
       "0    608\n",
       "1    209\n",
       "2     28\n",
       "4     18\n",
       "3     16\n",
       "8      7\n",
       "5      5\n",
       "Name: SibSp, dtype: int64"
      ]
     },
     "execution_count": 58,
     "metadata": {},
     "output_type": "execute_result"
    }
   ],
   "source": [
    "df1['SibSp'].value_counts()"
   ]
  },
  {
   "cell_type": "code",
   "execution_count": 59,
   "id": "92f6871b",
   "metadata": {},
   "outputs": [
    {
     "name": "stderr",
     "output_type": "stream",
     "text": [
      "C:\\Users\\DELL\\anaconda3\\lib\\site-packages\\seaborn\\_decorators.py:36: FutureWarning: Pass the following variable as a keyword arg: x. From version 0.12, the only valid positional argument will be `data`, and passing other arguments without an explicit keyword will result in an error or misinterpretation.\n",
      "  warnings.warn(\n"
     ]
    },
    {
     "data": {
      "text/plain": [
       "<AxesSubplot:xlabel='SibSp', ylabel='count'>"
      ]
     },
     "execution_count": 59,
     "metadata": {},
     "output_type": "execute_result"
    },
    {
     "data": {
      "image/png": "[encoded data removed]",
      "text/plain": [
       "<Figure size 432x288 with 1 Axes>"
      ]
     },
     "metadata": {},
     "output_type": "display_data"
    }
   ],
   "source": [
    "sns.countplot('SibSp', data=df1)"
   ]
  },
  {
   "cell_type": "code",
   "execution_count": 60,
   "id": "f63327ef",
   "metadata": {},
   "outputs": [
    {
     "name": "stderr",
     "output_type": "stream",
     "text": [
      "C:\\Users\\DELL\\anaconda3\\lib\\site-packages\\seaborn\\_decorators.py:36: FutureWarning: Pass the following variable as a keyword arg: x. From version 0.12, the only valid positional argument will be `data`, and passing other arguments without an explicit keyword will result in an error or misinterpretation.\n",
      "  warnings.warn(\n"
     ]
    },
    {
     "data": {
      "text/plain": [
       "<AxesSubplot:xlabel='SibSp', ylabel='count'>"
      ]
     },
     "execution_count": 60,
     "metadata": {},
     "output_type": "execute_result"
    },
    {
     "data": {
      "image/png": "[encoded data removed]",
      "text/plain": [
       "<Figure size 432x288 with 1 Axes>"
      ]
     },
     "metadata": {},
     "output_type": "display_data"
    }
   ],
   "source": [
    "sns.countplot('SibSp', data=df1, hue='Survived')"
   ]
  },
  {
   "cell_type": "markdown",
   "id": "6a2208a4",
   "metadata": {},
   "source": [
    "The above input shows, Sibsp value which is survived or not(Here, 0 represent people not survived and 1 represent people survived.)"
   ]
  },
  {
   "cell_type": "code",
   "execution_count": 61,
   "id": "34cc5a56",
   "metadata": {},
   "outputs": [
    {
     "data": {
      "text/plain": [
       "0    678\n",
       "1    118\n",
       "2     80\n",
       "5      5\n",
       "3      5\n",
       "4      4\n",
       "6      1\n",
       "Name: Parch, dtype: int64"
      ]
     },
     "execution_count": 61,
     "metadata": {},
     "output_type": "execute_result"
    }
   ],
   "source": [
    "df1['Parch'].value_counts()"
   ]
  },
  {
   "cell_type": "code",
   "execution_count": 62,
   "id": "4d7552a0",
   "metadata": {},
   "outputs": [
    {
     "name": "stderr",
     "output_type": "stream",
     "text": [
      "C:\\Users\\DELL\\anaconda3\\lib\\site-packages\\seaborn\\_decorators.py:36: FutureWarning: Pass the following variable as a keyword arg: x. From version 0.12, the only valid positional argument will be `data`, and passing other arguments without an explicit keyword will result in an error or misinterpretation.\n",
      "  warnings.warn(\n"
     ]
    },
    {
     "data": {
      "text/plain": [
       "<AxesSubplot:xlabel='Parch', ylabel='count'>"
      ]
     },
     "execution_count": 62,
     "metadata": {},
     "output_type": "execute_result"
    },
    {
     "data": {
      "image/png": "[encoded data removed]",
      "text/plain": [
       "<Figure size 432x288 with 1 Axes>"
      ]
     },
     "metadata": {},
     "output_type": "display_data"
    }
   ],
   "source": [
    "sns.countplot('Parch', data=df1)"
   ]
  },
  {
   "cell_type": "code",
   "execution_count": 63,
   "id": "cd2b2b4b",
   "metadata": {},
   "outputs": [
    {
     "name": "stderr",
     "output_type": "stream",
     "text": [
      "C:\\Users\\DELL\\anaconda3\\lib\\site-packages\\seaborn\\_decorators.py:36: FutureWarning: Pass the following variable as a keyword arg: x. From version 0.12, the only valid positional argument will be `data`, and passing other arguments without an explicit keyword will result in an error or misinterpretation.\n",
      "  warnings.warn(\n"
     ]
    },
    {
     "data": {
      "text/plain": [
       "<AxesSubplot:xlabel='Parch', ylabel='count'>"
      ]
     },
     "execution_count": 63,
     "metadata": {},
     "output_type": "execute_result"
    },
    {
     "data": {
      "image/png": "[encoded data removed]",
      "text/plain": [
       "<Figure size 432x288 with 1 Axes>"
      ]
     },
     "metadata": {},
     "output_type": "display_data"
    }
   ],
   "source": [
    "sns.countplot('Parch', data=df1, hue='Survived')"
   ]
  },
  {
   "cell_type": "markdown",
   "id": "910bd352",
   "metadata": {},
   "source": [
    "The above input shows, parch value which is survived or not(Here, 0 represent people not survived and 1 represent people survived.)"
   ]
  },
  {
   "cell_type": "code",
   "execution_count": 64,
   "id": "dbbffb89",
   "metadata": {},
   "outputs": [
    {
     "name": "stderr",
     "output_type": "stream",
     "text": [
      "C:\\Users\\DELL\\anaconda3\\lib\\site-packages\\seaborn\\distributions.py:2619: FutureWarning: `distplot` is a deprecated function and will be removed in a future version. Please adapt your code to use either `displot` (a figure-level function with similar flexibility) or `histplot` (an axes-level function for histograms).\n",
      "  warnings.warn(msg, FutureWarning)\n"
     ]
    },
    {
     "data": {
      "image/png": "[encoded data removed]",
      "text/plain": [
       "<Figure size 432x432 with 1 Axes>"
      ]
     },
     "metadata": {},
     "output_type": "display_data"
    }
   ],
   "source": [
    "plt.figure(figsize=(6,6))\n",
    "sns.distplot(df1['Survived'])\n",
    "plt.show()"
   ]
  },
  {
   "cell_type": "markdown",
   "id": "a399758a",
   "metadata": {},
   "source": [
    "here distplot shows, survived value against density distribution."
   ]
  },
  {
   "cell_type": "code",
   "execution_count": 66,
   "id": "2f6d3c5a",
   "metadata": {},
   "outputs": [
    {
     "name": "stderr",
     "output_type": "stream",
     "text": [
      "C:\\Users\\DELL\\anaconda3\\lib\\site-packages\\seaborn\\distributions.py:2619: FutureWarning: `distplot` is a deprecated function and will be removed in a future version. Please adapt your code to use either `displot` (a figure-level function with similar flexibility) or `histplot` (an axes-level function for histograms).\n",
      "  warnings.warn(msg, FutureWarning)\n"
     ]
    },
    {
     "data": {
      "image/png": "[encoded data removed]",
      "text/plain": [
       "<Figure size 432x432 with 1 Axes>"
      ]
     },
     "metadata": {},
     "output_type": "display_data"
    }
   ],
   "source": [
    "plt.figure(figsize=(6,6))\n",
    "sns.distplot(df1['Pclass'])\n",
    "plt.show()"
   ]
  },
  {
   "cell_type": "markdown",
   "id": "9fb1a8f0",
   "metadata": {},
   "source": [
    "here distplot shows, pclass value against density distribution."
   ]
  },
  {
   "cell_type": "code",
   "execution_count": 67,
   "id": "0e7b0d4d",
   "metadata": {},
   "outputs": [
    {
     "name": "stderr",
     "output_type": "stream",
     "text": [
      "C:\\Users\\DELL\\anaconda3\\lib\\site-packages\\seaborn\\distributions.py:2619: FutureWarning: `distplot` is a deprecated function and will be removed in a future version. Please adapt your code to use either `displot` (a figure-level function with similar flexibility) or `histplot` (an axes-level function for histograms).\n",
      "  warnings.warn(msg, FutureWarning)\n"
     ]
    },
    {
     "data": {
      "image/png": "[encoded data removed]",
      "text/plain": [
       "<Figure size 432x432 with 1 Axes>"
      ]
     },
     "metadata": {},
     "output_type": "display_data"
    }
   ],
   "source": [
    "plt.figure(figsize=(6,6))\n",
    "sns.distplot(df1['Fare'])\n",
    "plt.show()"
   ]
  },
  {
   "cell_type": "markdown",
   "id": "b93a06c5",
   "metadata": {},
   "source": [
    "here distplot shows, Fare value against density distribution."
   ]
  },
  {
   "cell_type": "code",
   "execution_count": 68,
   "id": "daca5642",
   "metadata": {},
   "outputs": [
    {
     "data": {
      "text/plain": [
       "<AxesSubplot:>"
      ]
     },
     "execution_count": 68,
     "metadata": {},
     "output_type": "execute_result"
    },
    {
     "data": {
      "image/png": "[encoded data removed]",
      "text/plain": [
       "<Figure size 1368x720 with 2 Axes>"
      ]
     },
     "metadata": {},
     "output_type": "display_data"
    }
   ],
   "source": [
    "#plotting Heatmap\n",
    "plt.figure(figsize=[19,10],facecolor='blue')\n",
    "sns.heatmap(df1.corr(),annot=True)"
   ]
  },
  {
   "cell_type": "markdown",
   "id": "9acef5ab",
   "metadata": {},
   "source": [
    "Here fig size say 19 in horizontal axis and 10 in Vertical axis, facecolor= blue says that color around them. As per the histogram Plot, pclass and embarked has almost same number, age and fare is almost near to each other,survived and parch is almost same number."
   ]
  },
  {
   "cell_type": "code",
   "execution_count": 69,
   "id": "84d02395",
   "metadata": {},
   "outputs": [
    {
     "data": {
      "image/png": "[encoded data removed]",
      "text/plain": [
       "<Figure size 1440x1440 with 9 Axes>"
      ]
     },
     "metadata": {},
     "output_type": "display_data"
    }
   ],
   "source": [
    "df1.hist(bins=25,figsize=(20,20))\n",
    "# display histogram\n",
    "plt.show()"
   ]
  },
  {
   "cell_type": "markdown",
   "id": "60208df4",
   "metadata": {},
   "source": [
    "Here above Figure Shows Histogram Plot, The Bins=25 shows here, that our graph is divided into 25 bars, if we use Bins= 15, than our graph is divided into 15 bars, we use 25 here because our data set is very large. figsize is used here to show the size of each Graph.For Example:- Here (20,20) shows the Breadth and Height of Each Individual Graph."
   ]
  },
  {
   "cell_type": "code",
   "execution_count": 65,
   "id": "d3f57d46",
   "metadata": {},
   "outputs": [],
   "source": [
    "df1['Sex'].replace(['male','female' ],\n",
    "                        [0, 1],inplace=True)\n"
   ]
  },
  {
   "cell_type": "markdown",
   "id": "6ae52172",
   "metadata": {},
   "source": [
    "The above input replace the categorical data into numerical data "
   ]
  },
  {
   "cell_type": "code",
   "execution_count": 33,
   "id": "be46a85a",
   "metadata": {},
   "outputs": [
    {
     "data": {
      "text/plain": [
       "S    646\n",
       "C    168\n",
       "Q     77\n",
       "Name: Embarked, dtype: int64"
      ]
     },
     "execution_count": 33,
     "metadata": {},
     "output_type": "execute_result"
    }
   ],
   "source": [
    "df1['Embarked'].value_counts()"
   ]
  },
  {
   "cell_type": "markdown",
   "id": "97e5a2af",
   "metadata": {},
   "source": [
    "the above input shows the count value of embarked data given in our dataset. "
   ]
  },
  {
   "cell_type": "code",
   "execution_count": 34,
   "id": "78e73198",
   "metadata": {},
   "outputs": [],
   "source": [
    "df1['Embarked'].replace(['S','C','Q' ],\n",
    "                        [0, 1,2],inplace=True)"
   ]
  },
  {
   "cell_type": "markdown",
   "id": "15dcf023",
   "metadata": {},
   "source": [
    "Replace the embarked categorical data into numerical data"
   ]
  },
  {
   "cell_type": "code",
   "execution_count": 35,
   "id": "c78e63b4",
   "metadata": {},
   "outputs": [
    {
     "data": {
      "text/html": [
       "<div>\n",
       "<style scoped>\n",
       "    .dataframe tbody tr th:only-of-type {\n",
       "        vertical-align: middle;\n",
       "    }\n",
       "\n",
       "    .dataframe tbody tr th {\n",
       "        vertical-align: top;\n",
       "    }\n",
       "\n",
       "    .dataframe thead th {\n",
       "        text-align: right;\n",
       "    }\n",
       "</style>\n",
       "<table border=\"1\" class=\"dataframe\">\n",
       "  <thead>\n",
       "    <tr style=\"text-align: right;\">\n",
       "      <th></th>\n",
       "      <th>PassengerId</th>\n",
       "      <th>Survived</th>\n",
       "      <th>Pclass</th>\n",
       "      <th>Name</th>\n",
       "      <th>Sex</th>\n",
       "      <th>Age</th>\n",
       "      <th>SibSp</th>\n",
       "      <th>Parch</th>\n",
       "      <th>Ticket</th>\n",
       "      <th>Fare</th>\n",
       "      <th>Embarked</th>\n",
       "    </tr>\n",
       "  </thead>\n",
       "  <tbody>\n",
       "    <tr>\n",
       "      <th>0</th>\n",
       "      <td>1</td>\n",
       "      <td>0</td>\n",
       "      <td>3</td>\n",
       "      <td>Braund, Mr. Owen Harris</td>\n",
       "      <td>0</td>\n",
       "      <td>22.0</td>\n",
       "      <td>1</td>\n",
       "      <td>0</td>\n",
       "      <td>A/5 21171</td>\n",
       "      <td>7.2500</td>\n",
       "      <td>0</td>\n",
       "    </tr>\n",
       "    <tr>\n",
       "      <th>1</th>\n",
       "      <td>2</td>\n",
       "      <td>1</td>\n",
       "      <td>1</td>\n",
       "      <td>Cumings, Mrs. John Bradley (Florence Briggs Th...</td>\n",
       "      <td>1</td>\n",
       "      <td>38.0</td>\n",
       "      <td>1</td>\n",
       "      <td>0</td>\n",
       "      <td>PC 17599</td>\n",
       "      <td>71.2833</td>\n",
       "      <td>1</td>\n",
       "    </tr>\n",
       "    <tr>\n",
       "      <th>2</th>\n",
       "      <td>3</td>\n",
       "      <td>1</td>\n",
       "      <td>3</td>\n",
       "      <td>Heikkinen, Miss. Laina</td>\n",
       "      <td>1</td>\n",
       "      <td>26.0</td>\n",
       "      <td>0</td>\n",
       "      <td>0</td>\n",
       "      <td>STON/O2. 3101282</td>\n",
       "      <td>7.9250</td>\n",
       "      <td>0</td>\n",
       "    </tr>\n",
       "    <tr>\n",
       "      <th>3</th>\n",
       "      <td>4</td>\n",
       "      <td>1</td>\n",
       "      <td>1</td>\n",
       "      <td>Futrelle, Mrs. Jacques Heath (Lily May Peel)</td>\n",
       "      <td>1</td>\n",
       "      <td>35.0</td>\n",
       "      <td>1</td>\n",
       "      <td>0</td>\n",
       "      <td>113803</td>\n",
       "      <td>53.1000</td>\n",
       "      <td>0</td>\n",
       "    </tr>\n",
       "    <tr>\n",
       "      <th>4</th>\n",
       "      <td>5</td>\n",
       "      <td>0</td>\n",
       "      <td>3</td>\n",
       "      <td>Allen, Mr. William Henry</td>\n",
       "      <td>0</td>\n",
       "      <td>35.0</td>\n",
       "      <td>0</td>\n",
       "      <td>0</td>\n",
       "      <td>373450</td>\n",
       "      <td>8.0500</td>\n",
       "      <td>0</td>\n",
       "    </tr>\n",
       "  </tbody>\n",
       "</table>\n",
       "</div>"
      ],
      "text/plain": [
       "   PassengerId  Survived  Pclass  \\\n",
       "0            1         0       3   \n",
       "1            2         1       1   \n",
       "2            3         1       3   \n",
       "3            4         1       1   \n",
       "4            5         0       3   \n",
       "\n",
       "                                                Name  Sex   Age  SibSp  Parch  \\\n",
       "0                            Braund, Mr. Owen Harris    0  22.0      1      0   \n",
       "1  Cumings, Mrs. John Bradley (Florence Briggs Th...    1  38.0      1      0   \n",
       "2                             Heikkinen, Miss. Laina    1  26.0      0      0   \n",
       "3       Futrelle, Mrs. Jacques Heath (Lily May Peel)    1  35.0      1      0   \n",
       "4                           Allen, Mr. William Henry    0  35.0      0      0   \n",
       "\n",
       "             Ticket     Fare  Embarked  \n",
       "0         A/5 21171   7.2500         0  \n",
       "1          PC 17599  71.2833         1  \n",
       "2  STON/O2. 3101282   7.9250         0  \n",
       "3            113803  53.1000         0  \n",
       "4            373450   8.0500         0  "
      ]
     },
     "execution_count": 35,
     "metadata": {},
     "output_type": "execute_result"
    }
   ],
   "source": [
    "df1.head()"
   ]
  },
  {
   "cell_type": "markdown",
   "id": "dc787ffe",
   "metadata": {},
   "source": [
    "The above function is used to access the first 5 rows of a dataframe."
   ]
  },
  {
   "cell_type": "code",
   "execution_count": 36,
   "id": "007a6109",
   "metadata": {},
   "outputs": [],
   "source": [
    "X= df1.drop(columns = ['Survived','PassengerId','Name','Ticket'],axis=1)\n",
    "Y= df1['Survived']"
   ]
  },
  {
   "cell_type": "markdown",
   "id": "acbbaa51",
   "metadata": {},
   "source": [
    "Drop the unnecessary columns from data set such as PassengerId, Name, Ticket and find the output such as survived. "
   ]
  },
  {
   "cell_type": "code",
   "execution_count": 37,
   "id": "6f57d6a7",
   "metadata": {},
   "outputs": [
    {
     "name": "stdout",
     "output_type": "stream",
     "text": [
      "     Pclass  Sex        Age  SibSp  Parch     Fare  Embarked\n",
      "0         3    0  22.000000      1      0   7.2500         0\n",
      "1         1    1  38.000000      1      0  71.2833         1\n",
      "2         3    1  26.000000      0      0   7.9250         0\n",
      "3         1    1  35.000000      1      0  53.1000         0\n",
      "4         3    0  35.000000      0      0   8.0500         0\n",
      "..      ...  ...        ...    ...    ...      ...       ...\n",
      "886       2    0  27.000000      0      0  13.0000         0\n",
      "887       1    1  19.000000      0      0  30.0000         0\n",
      "888       3    1  29.699118      1      2  23.4500         0\n",
      "889       1    0  26.000000      0      0  30.0000         1\n",
      "890       3    0  32.000000      0      0   7.7500         2\n",
      "\n",
      "[891 rows x 7 columns]\n"
     ]
    }
   ],
   "source": [
    "print(X)"
   ]
  },
  {
   "cell_type": "markdown",
   "id": "09b2a1fb",
   "metadata": {},
   "source": [
    "After Dropping the columns from dataset, find the value of X With the help of print command. "
   ]
  },
  {
   "cell_type": "code",
   "execution_count": 38,
   "id": "ccf8a7d2",
   "metadata": {},
   "outputs": [
    {
     "name": "stdout",
     "output_type": "stream",
     "text": [
      "0      0\n",
      "1      1\n",
      "2      1\n",
      "3      1\n",
      "4      0\n",
      "      ..\n",
      "886    0\n",
      "887    1\n",
      "888    0\n",
      "889    1\n",
      "890    0\n",
      "Name: Survived, Length: 891, dtype: int64\n"
     ]
    }
   ],
   "source": [
    "print(Y)"
   ]
  },
  {
   "cell_type": "markdown",
   "id": "45e06221",
   "metadata": {},
   "source": [
    "After Seperating the column Survived from dataset, the value comes in Y input. "
   ]
  },
  {
   "cell_type": "code",
   "execution_count": 39,
   "id": "7b6b0ff6",
   "metadata": {},
   "outputs": [
    {
     "data": {
      "text/plain": [
       "((623, 7), (268, 7), (623,), (268,))"
      ]
     },
     "execution_count": 39,
     "metadata": {},
     "output_type": "execute_result"
    }
   ],
   "source": [
    "#splitting X and y into training and testing sets \n",
    "from sklearn.model_selection import train_test_split \n",
    "X_train, X_test, Y_train, Y_test = train_test_split(X, Y, test_size=0.3, \n",
    "                                                    random_state=2) \n",
    "X_train.shape , X_test.shape ,Y_train.shape , Y_test.shape"
   ]
  },
  {
   "cell_type": "markdown",
   "id": "3858f808",
   "metadata": {},
   "source": [
    "Splitting the data into train and testing by using linear Regression and find the accuracy of the dataset. "
   ]
  },
  {
   "cell_type": "code",
   "execution_count": 40,
   "id": "7e3259c4",
   "metadata": {},
   "outputs": [],
   "source": [
    "from sklearn.linear_model import LinearRegression\n",
    "from sklearn.metrics import r2_score , mean_squared_error"
   ]
  },
  {
   "cell_type": "code",
   "execution_count": 41,
   "id": "69f604c4",
   "metadata": {},
   "outputs": [
    {
     "data": {
      "text/plain": [
       "LinearRegression()"
      ]
     },
     "execution_count": 41,
     "metadata": {},
     "output_type": "execute_result"
    }
   ],
   "source": [
    "lr = LinearRegression()\n",
    "lr.fit(X_train, Y_train)"
   ]
  },
  {
   "cell_type": "code",
   "execution_count": 42,
   "id": "3fb12690",
   "metadata": {},
   "outputs": [
    {
     "data": {
      "text/plain": [
       "array([ 0.35367817,  0.13407571,  0.75673318,  0.0861405 ,  0.48799482,\n",
       "        0.06919303,  0.07995633,  0.10520087,  0.21412898,  0.24745383,\n",
       "        0.2191078 ,  0.88407456,  0.59477853,  0.07389276,  0.07389276,\n",
       "        0.62510255,  0.05167682, -0.06817573,  0.70006055, -0.11544939,\n",
       "        0.52107015,  0.57240458,  0.0831615 ,  0.61078859,  0.21608005,\n",
       "        0.74486397,  0.63053359,  0.34737901,  0.08369316,  0.08152531,\n",
       "        0.14127749,  0.02553209,  0.56850202,  0.44358139,  0.40216789,\n",
       "        0.5750739 ,  0.9640352 ,  0.0412629 ,  0.07136188,  0.21830063,\n",
       "        0.01148263, -0.04145448,  0.64720915,  0.11188274,  0.13409567,\n",
       "        0.48665387,  1.0281005 ,  0.07140181,  0.16065218,  0.79632434,\n",
       "        0.07136991,  0.28881719,  0.25977176,  0.31827267,  0.23992551,\n",
       "        0.26803049,  0.71424546,  0.1341076 , -0.08222497,  0.05477796,\n",
       "        0.68833013,  0.40308595,  0.03315959,  0.07132825,  0.78135766,\n",
       "        0.04765169,  0.83076711,  0.26018972,  0.09478285,  0.11912011,\n",
       "        0.58947747, -0.24797819,  0.61648424,  0.08360441,  0.61838141,\n",
       "        0.36723432,  0.15570059,  0.39587766,  0.82156985,  0.05730733,\n",
       "        1.03329119,  0.44318561, -0.03398966,  0.18257918,  0.87999799,\n",
       "        0.86840728,  0.01156661,  0.07136188,  0.64403552,  0.26888887,\n",
       "        0.13900844,  0.14849793,  0.14404919,  0.07136188, -0.03172156,\n",
       "        0.80375784,  0.54801288,  0.68571828,  0.10515468,  0.46782821,\n",
       "        0.59226384,  0.11049624,  0.85479787,  0.99595848,  0.14135951,\n",
       "        0.76999621,  0.86596681,  0.54840957,  0.3811424 ,  0.08437144,\n",
       "        0.44253987,  0.07639503,  0.29658216,  0.14882818,  0.98536567,\n",
       "        0.71441582,  0.0908127 ,  0.85811127,  0.36039601,  0.13034221,\n",
       "        0.68161525,  0.1296326 ,  0.25596415,  0.29051376,  0.13763819,\n",
       "        0.07136188,  0.12305125,  0.81106096,  0.15568627,  0.25596415,\n",
       "        0.07136188,  0.24054554,  0.68810716,  1.009538  ,  0.11030641,\n",
       "        0.55041015,  0.18959764,  0.07136991,  0.00431991,  0.06913312,\n",
       "        0.64000997,  1.01210535,  0.63085361,  0.85915667,  0.44236021,\n",
       "        0.79475027,  0.10884668, -0.11461043,  0.15568735,  0.84101191,\n",
       "        0.29129446,  0.53913137,  0.06559691, -0.02743865,  0.65936711,\n",
       "        0.02592244,  0.41135819,  0.78033368,  0.76533721,  0.0614913 ,\n",
       "        0.50303193,  0.07137316,  0.14849229,  0.11022905,  1.04001962,\n",
       "        0.9661466 , -0.02710583,  0.07135559,  0.98363232,  0.12682575,\n",
       "        0.02805221,  0.67602909,  0.74618631,  0.64718312,  0.11245082,\n",
       "        0.12691688, -0.29564   ,  0.09802621,  0.54299681,  0.40199713,\n",
       "        0.72352898, -0.05329046,  0.02652564,  0.14137752,  0.25447229,\n",
       "        0.06920106,  0.74588441,  0.39693314,  0.07136991,  0.2471338 ,\n",
       "        0.89530272,  0.10179485,  0.07144542,  0.46968406,  0.33719195,\n",
       "        0.67615126,  0.03315959,  0.13981657, -0.155095  ,  0.30314601,\n",
       "        0.124723  ,  0.72117602,  0.28681935,  0.08215022,  0.92455798,\n",
       "        0.45349586,  0.04028695,  0.47624891, -0.02459008,  0.5973352 ,\n",
       "        0.8503232 ,  0.22394255, -0.09724851,  0.64349128, -0.0889942 ,\n",
       "        0.89656955,  0.22471737,  0.57270046,  0.41356644, -0.0173193 ,\n",
       "        0.14848426,  0.35606539,  0.65936711,  0.81807942, -0.03897933,\n",
       "        0.07640935,  0.88373476,  0.13900975,  0.96367067,  0.16294078,\n",
       "        0.6917113 ,  0.41946194,  0.12746996,  0.16797276,  0.33363333,\n",
       "        0.43423007,  0.10298605,  0.84245126,  0.0454578 ,  1.03985246,\n",
       "        0.37393411,  0.30493034,  0.4982571 ,  0.46327496,  0.30480015,\n",
       "        0.32249752,  0.61838509,  0.63284985,  0.21122252,  0.94022612,\n",
       "        0.13900975,  0.141284  ,  0.92099315,  0.24513594,  0.06927657,\n",
       "        0.07135559, -0.02450676, -0.03892335,  0.01152668,  0.61294138,\n",
       "        0.44233157,  0.29057562,  0.14848426,  0.9946082 ,  0.39057149,\n",
       "       -0.03171505,  0.10518961,  0.58233994])"
      ]
     },
     "execution_count": 42,
     "metadata": {},
     "output_type": "execute_result"
    }
   ],
   "source": [
    "pred = lr.predict(X_test)\n",
    "pred"
   ]
  },
  {
   "cell_type": "code",
   "execution_count": 43,
   "id": "7b9c440c",
   "metadata": {},
   "outputs": [
    {
     "data": {
      "text/plain": [
       "707    1\n",
       "37     0\n",
       "615    1\n",
       "169    0\n",
       "68     1\n",
       "      ..\n",
       "842    1\n",
       "671    0\n",
       "696    0\n",
       "42     0\n",
       "396    0\n",
       "Name: Survived, Length: 268, dtype: int64"
      ]
     },
     "execution_count": 43,
     "metadata": {},
     "output_type": "execute_result"
    }
   ],
   "source": [
    "Y_test"
   ]
  },
  {
   "cell_type": "code",
   "execution_count": 44,
   "id": "7f6de889",
   "metadata": {},
   "outputs": [
    {
     "data": {
      "text/plain": [
       "0.34448333840717715"
      ]
     },
     "execution_count": 44,
     "metadata": {},
     "output_type": "execute_result"
    }
   ],
   "source": [
    "#Evaluate\n",
    "lr.score(X_test , Y_test)\n"
   ]
  },
  {
   "cell_type": "code",
   "execution_count": 45,
   "id": "32a75359",
   "metadata": {},
   "outputs": [
    {
     "data": {
      "text/plain": [
       "array([ 2.82535676e-02,  8.18079415e-01,  1.48602735e-01,  5.00256737e-01,\n",
       "        9.63740787e-01, -6.05584259e-02,  2.82535676e-02,  4.61121579e-01,\n",
       "        9.55704893e-01,  7.50444268e-01,  9.20298834e-01,  4.42826290e-01,\n",
       "        1.04760500e+00,  1.82318804e-01,  6.91593996e-02,  4.73812783e-01,\n",
       "        1.34062467e-01,  7.13618785e-02,  9.98536013e-01,  8.11769839e-03,\n",
       "        2.54472286e-01, -6.90924730e-02,  8.01389474e-01,  8.91750939e-01,\n",
       "        3.31075151e-02,  1.54679964e-01,  1.04057414e+00,  1.34494915e-01,\n",
       "        1.39008877e-01,  6.16033787e-01,  1.26859381e-01,  6.19862569e-02,\n",
       "        6.10169962e-01,  1.48477972e-01,  1.05154895e-01,  8.78554192e-01,\n",
       "        7.13618785e-02,  9.56065955e-01,  7.13699086e-02,  7.78040016e-01,\n",
       "        5.73073255e-02,  7.31579889e-01, -8.74272706e-03,  6.59367113e-01,\n",
       "        6.59371237e-01,  7.89228013e-01,  7.58113509e-01,  9.20305994e-01,\n",
       "        6.45270198e-01,  2.90275857e-01,  5.47764424e-02,  7.31579889e-01,\n",
       "        8.82152960e-01,  8.99296470e-01,  8.13958788e-02,  5.03058659e-01,\n",
       "        7.79909891e-01,  1.87901078e-01,  9.08179117e-02,  3.18039415e-01,\n",
       "        5.29104233e-01,  5.47779630e-02,  2.54472286e-01,  6.17996887e-01,\n",
       "        1.84335652e-02,  7.14864615e-01, -1.01383425e-02,  1.14537511e-02,\n",
       "        8.04327111e-02,  8.14358053e-02,  9.75405770e-02,  1.26935110e-01,\n",
       "        6.11538123e-02,  2.35023691e-01,  7.00429129e-01,  3.95500111e-01,\n",
       "        1.90274626e-01,  2.76097168e-01,  7.13699086e-02,  1.40263376e-01,\n",
       "        5.16483548e-03, -1.43181047e-02,  7.13178329e-02,  2.56385873e-01,\n",
       "        3.96927930e-01,  6.13499703e-01,  7.56808917e-01,  1.41345188e-01,\n",
       "        2.24717371e-01,  7.02889922e-01,  2.02881721e-01,  6.88519962e-01,\n",
       "        2.18360274e-01,  7.45996477e-01,  8.05731727e-01,  5.82383112e-01,\n",
       "        2.94906618e-01,  5.32460555e-01,  1.05190454e-01,  5.82151596e-01,\n",
       "        2.90513755e-01,  3.14300048e-01,  2.87557688e-01,  5.20010647e-01,\n",
       "        5.36501302e-01,  1.60652398e-01,  8.44543764e-01,  3.32066955e-01,\n",
       "        2.00907612e-01,  4.59808205e-01,  6.59367113e-01,  8.53465597e-01,\n",
       "        5.47844725e-02,  1.10483625e+00,  1.41231923e-01,  1.07558925e-01,\n",
       "        9.80257734e-02,  7.64839943e-02,  2.25639111e-01,  1.06458679e+00,\n",
       "        5.89102282e-01,  3.84133058e-02,  4.78273311e-01,  7.38978019e-01,\n",
       "        8.93521316e-01,  1.01950881e+00,  4.51264893e-01,  1.05154676e-01,\n",
       "        8.36074515e-02,  3.11280253e-01,  1.42798322e-01,  1.39013871e-01,\n",
       "        3.17600245e-01,  1.74901473e-01,  7.81907757e-01,  7.13699086e-02,\n",
       "        1.05154895e-01,  4.74081585e-01,  8.16295085e-01,  4.84958127e-01,\n",
       "        5.47779630e-02,  9.08578382e-02,  1.05197539e+00,  2.32809649e-01,\n",
       "        6.25585575e-01,  9.23443321e-01,  6.59373841e-01,  3.04930343e-01,\n",
       "        2.11092333e-01,  5.82151810e-01,  9.61268768e-02,  1.02985828e-01,\n",
       "        4.76076428e-02,  4.81418396e-01,  1.00561388e+00,  3.18975696e-01,\n",
       "        6.92010602e-02, -2.95639995e-01,  5.91701237e-01,  1.38963310e-01,\n",
       "        1.39009746e-01,  1.26867411e-01,  6.59360822e-01,  5.48007462e-02,\n",
       "        7.37179976e-01,  1.39009746e-01,  1.08677064e+00,  2.30478578e-01,\n",
       "        7.13618785e-02,  4.75681485e-02,  2.97722049e-01,  1.05154676e-01,\n",
       "        7.13282480e-02,  4.47579319e-01,  3.98096280e-01,  1.05234499e-01,\n",
       "        6.16033787e-01,  7.13699086e-02,  9.47176040e-01,  7.13315027e-02,\n",
       "        7.05074959e-02,  6.07449809e-01,  1.12442793e-01,  2.58154186e-02,\n",
       "        7.89246240e-01,  4.40977600e-01,  4.77128296e-01,  1.03073379e-01,\n",
       "        7.53134228e-01,  7.02746713e-01, -1.39881123e-01,  1.67088482e-01,\n",
       "        1.24964908e-01, -5.24449210e-02,  8.12509965e-01,  4.55074030e-01,\n",
       "        7.55166937e-01,  1.39008663e-01,  1.57214910e-01,  6.93116410e-01,\n",
       "        2.45043744e-01,  8.36931578e-02,  1.34069196e-01,  6.03966984e-01,\n",
       "        4.38577319e-01,  1.41273802e-01,  2.47263992e-01,  1.05154895e-01,\n",
       "        6.11176799e-01,  5.56810478e-01,  2.07219772e-01, -8.21731111e-02,\n",
       "        9.52728339e-02,  1.12660017e-02,  1.05154676e-01,  1.38968086e-01,\n",
       "        7.08582353e-01,  2.14839654e-01,  7.68114773e-01,  6.20133560e-02,\n",
       "        7.13618785e-02,  2.61550390e-01,  1.22424310e-01,  8.84585572e-02,\n",
       "        7.31467602e-01,  7.57860865e-01,  6.36743704e-01,  7.13282480e-02,\n",
       "        5.48409572e-01,  3.10442074e-01,  5.18617452e-01,  1.55732458e-01,\n",
       "        7.17427694e-01,  2.90513755e-01,  7.13618785e-02, -1.64034516e-02,\n",
       "        1.39046632e-01,  4.43685541e-01,  8.75745538e-02,  6.30533585e-01,\n",
       "        7.79351184e-01,  1.05923071e-02,  7.04880932e-01,  6.47353233e-01,\n",
       "        2.76774153e-01,  1.03985246e+00,  4.45254166e-01,  7.81452694e-01,\n",
       "        1.48484263e-01,  2.13415179e-01,  2.52775723e-01, -1.33415604e-02,\n",
       "        4.04136224e-01,  1.12421963e-01,  1.55684964e-01,  5.39180436e-01,\n",
       "        2.75531905e-01,  9.54040502e-01, -1.31969790e-02,  3.28564356e-01,\n",
       "        6.40896357e-01,  7.97840264e-01,  5.37366043e-01, -1.73245041e-02,\n",
       "        6.89918711e-01,  1.12437586e-01,  5.47742760e-02,  1.96995771e-01,\n",
       "        4.75618578e-02,  1.04863581e+00,  7.22072909e-01,  2.97591860e-01,\n",
       "        1.41273802e-01,  4.54607951e-01,  5.83734126e-01,  3.33763519e-01,\n",
       "        9.76563803e-01,  1.01669374e+00,  9.99287098e-01,  2.61775593e-01,\n",
       "        3.11309114e-01,  1.39027297e-01,  5.46877143e-01,  8.82095677e-01,\n",
       "        2.81104774e-01,  1.39413334e-01,  1.11430201e-01,  6.05982856e-01,\n",
       "        9.47947526e-01,  3.93185043e-01,  4.40977600e-01,  6.39049848e-01,\n",
       "        1.39009746e-01,  1.12526333e-01,  1.05531356e-01,  2.56641134e-01,\n",
       "        8.00922640e-01,  3.80267913e-01,  2.55964149e-01,  1.26854174e-01,\n",
       "        3.40971812e-01,  1.26825751e-01,  6.34512403e-01,  1.62940777e-01,\n",
       "        1.34075705e-01,  2.81814598e-01,  1.94058451e-01,  6.54412241e-01,\n",
       "        1.19720306e-01,  8.84938414e-01,  9.02313127e-01,  7.06544727e-01,\n",
       "        3.46323076e-02,  6.21182128e-01,  6.47210457e-01,  3.61428182e-01,\n",
       "        2.17096180e-01,  4.90583301e-01,  2.09525960e-01,  1.00093703e+00,\n",
       "        2.90513780e-01,  1.03882158e+00,  6.69792910e-02,  1.39009746e-01,\n",
       "        6.16033787e-01,  9.30187859e-01,  9.80199149e-02,  2.55964149e-01,\n",
       "        3.90831865e-01,  3.04930343e-01,  7.36358602e-01,  2.68510479e-01,\n",
       "        1.48471462e-01,  1.39009746e-01,  4.51264893e-01,  6.59367113e-01,\n",
       "        6.59367113e-01,  8.12502633e-02,  6.53594117e-01,  1.19651087e-01,\n",
       "        8.23558817e-01,  4.02869266e-02,  7.13618785e-02,  4.31363167e-01,\n",
       "        2.59432669e-02,  3.78975448e-01,  8.44620112e-01,  1.39009746e-01,\n",
       "        3.40893699e-01,  1.48492293e-01,  7.38927616e-02,  7.58716501e-01,\n",
       "        6.59366462e-01,  1.60954302e-01,  1.05154895e-01,  7.37179976e-01,\n",
       "        1.12403523e-01,  7.43645715e-01,  1.13798487e-01, -5.15648285e-03,\n",
       "        9.13784857e-01,  6.28726396e-02,  1.70192684e-01,  1.32035442e-01,\n",
       "        5.05436620e-01,  1.26819241e-01, -3.17150540e-02,  2.82924873e-01,\n",
       "        1.12398748e-01,  9.20706808e-01,  5.23430961e-02,  4.37128998e-01,\n",
       "        7.60413064e-01,  6.95148156e-01,  1.62940777e-01,  1.34065509e-01,\n",
       "        4.42360212e-01,  5.90438300e-01,  7.45866287e-01, -6.87373314e-02,\n",
       "        8.66305231e-01,  5.75716177e-01,  8.36096179e-02,  8.64583810e-01,\n",
       "        2.58833578e-02,  1.34061384e-01,  7.64002408e-02,  7.58114378e-01,\n",
       "        7.85466378e-01,  1.07502736e-03,  6.59369065e-01,  7.17370429e-02,\n",
       "        2.28446215e-01,  4.31476259e-01,  9.59158587e-02,  7.13699086e-02,\n",
       "        4.76248913e-01,  4.42591949e-01, -1.73950471e-02,  6.59367113e-01,\n",
       "        5.28138547e-01,  6.66731282e-01,  4.76403838e-01, -2.64674015e-02,\n",
       "        1.39009746e-01,  6.01255111e-01,  7.13618785e-02,  1.39863789e-01,\n",
       "        7.36496225e-01,  2.17034772e-01,  3.37753905e-01,  1.70117174e-01,\n",
       "        6.05612467e-01, -1.72665698e-02,  7.17163301e-01,  7.38978019e-01,\n",
       "        6.97753985e-02,  1.18638495e-01,  5.89788862e-01,  7.86590048e-01,\n",
       "        1.34069196e-01,  5.81856474e-01,  1.16856954e-01,  9.18342864e-01,\n",
       "        7.32666776e-01,  7.57384561e-01,  5.42871268e-02,  6.59373841e-01,\n",
       "        1.05154895e-01,  3.32533034e-01,  7.74829652e-01,  1.05189609e-01,\n",
       "        1.67972760e-01,  8.81142147e-01,  7.13699086e-02,  7.13699086e-02,\n",
       "        5.17961252e-01,  2.76097168e-01, -5.66972091e-03,  1.39009746e-01,\n",
       "        4.42565911e-01,  9.92105469e-01,  5.91727275e-01,  8.36096179e-02,\n",
       "        2.01714673e-01,  5.89289719e-01,  2.27431344e-01,  9.08870506e-01,\n",
       "        3.55258211e-01,  2.52537995e-01,  4.05748380e-01,  3.38864610e-01,\n",
       "        3.40893699e-01,  5.16768209e-02,  8.51691304e-01,  6.25512261e-01,\n",
       "        6.65967019e-01,  9.07699604e-02,  2.83175272e-01,  5.91026608e-01,\n",
       "        5.16235340e-01,  2.24717371e-01,  2.10338245e-01,  1.00557089e-01,\n",
       "        6.25612461e-02,  1.72881935e-01,  2.25639111e-01, -7.49648172e-02,\n",
       "        1.05154895e-01,  1.82318804e-01,  7.13618785e-02,  4.12074114e-01,\n",
       "        1.26839853e-01,  3.31114208e-02,  1.34034044e-01,  9.56764212e-02,\n",
       "        9.56764212e-02,  1.49839957e-01,  6.32828779e-01,  2.72350904e-01,\n",
       "        3.42092308e-01,  2.54342097e-01,  4.76351981e-01,  7.99750108e-01,\n",
       "        2.87069531e-01, -2.95639995e-01,  2.68914912e-01,  1.21616736e-01,\n",
       "        2.68758684e-01,  1.06122403e-01,  4.37977624e-01,  3.22761093e-01,\n",
       "        6.14912962e-02,  1.39009095e-01,  1.70117174e-01,  8.30888381e-02,\n",
       "        1.03292069e+00,  1.75068985e-01,  1.06813746e+00,  3.32066955e-01,\n",
       "       -8.21887338e-02,  1.87978096e-01,  2.32271916e-01,  1.05154676e-01,\n",
       "        4.03678847e-02,  6.50205139e-01,  2.13398809e-01, -3.08200393e-02,\n",
       "        9.58898208e-02, -1.54350437e-01,  1.02438413e-01,  9.38711588e-01,\n",
       "        3.26201471e-02,  9.40715424e-01,  3.09028892e-02,  7.89246240e-01,\n",
       "        4.31990590e-03,  3.86967222e-01,  3.51764795e-01,  9.82550210e-01,\n",
       "        3.55928251e-01,  5.42643577e-01,  7.51557193e-01,  8.95074859e-01,\n",
       "        4.51264893e-01,  1.89207378e-01,  3.06115795e-01,  9.05665829e-01,\n",
       "        7.64848640e-02,  6.59387292e-01, -2.95639995e-01,  3.44122397e-01,\n",
       "        1.05190454e-01,  8.39574108e-01,  6.25512043e-01,  7.21239510e-01,\n",
       "        9.72752597e-02,  4.03678847e-02,  6.39990446e-01,  7.75019488e-01,\n",
       "        4.47595266e-01,  1.89597641e-01,  1.70177931e-01,  4.76867531e-01,\n",
       "        1.26867411e-01,  9.39045495e-01,  7.17057974e-02,  2.25639111e-01,\n",
       "        2.09525960e-01,  1.78901078e-01,  4.55678109e-01,  8.87550508e-01,\n",
       "        6.47317863e-01,  1.70102854e-01,  7.36926822e-01,  6.59366243e-01,\n",
       "        1.02949622e+00,  1.19648921e-01,  7.17057974e-02,  9.80342357e-02,\n",
       "        9.42045791e-01, -3.86268651e-03,  1.55713606e-01,  1.00278832e-01,\n",
       "        1.04823320e-01,  7.33564491e-01,  5.28475065e-01,  2.53816998e-01,\n",
       "        7.13438707e-02,  6.76043632e-01, -2.88990859e-03,  1.32421130e-01,\n",
       "        8.74019557e-01,  4.17444249e-01,  4.23616407e-01,  5.15330845e-02,\n",
       "        3.33633329e-01,  5.91727275e-01, -5.33815962e-02,  1.47936463e-01,\n",
       "        9.59055969e-01,  7.13699086e-02,  7.39204789e-01,  4.42800252e-01,\n",
       "        7.13699086e-02,  1.48073083e-01,  1.02472455e+00,  8.71792103e-01,\n",
       "        9.56807295e-01,  7.79433671e-01,  6.10651913e-01,  2.36766926e-02,\n",
       "        1.95080730e-01,  5.51801372e-01,  6.59373841e-01,  1.34062686e-01,\n",
       "        5.80075528e-01,  4.97549571e-01,  7.98791805e-01,  4.45908031e-01,\n",
       "        6.19784455e-02,  9.80262056e-02,  2.59675873e-01,  6.61673262e-01,\n",
       "        9.77379977e-01,  1.26859381e-01,  4.11142109e-01,  6.59367113e-01,\n",
       "        1.41315895e-01,  2.06616523e-01,  4.62021944e-01,  1.62860710e-01,\n",
       "        2.55964149e-01,  3.66725813e-01, -8.62196163e-02,  1.05221699e-01,\n",
       "        2.55964149e-01,  8.51559178e-01,  5.89590323e-01,  1.05232139e-01,\n",
       "        1.79674403e-01,  4.52526925e-01,  4.42327665e-01])"
      ]
     },
     "execution_count": 45,
     "metadata": {},
     "output_type": "execute_result"
    }
   ],
   "source": [
    "pred = lr.predict(X_train)\n",
    "pred"
   ]
  },
  {
   "cell_type": "code",
   "execution_count": 46,
   "id": "404242e2",
   "metadata": {},
   "outputs": [
    {
     "data": {
      "text/plain": [
       "451    0\n",
       "345    1\n",
       "687    0\n",
       "279    1\n",
       "742    1\n",
       "      ..\n",
       "534    0\n",
       "584    0\n",
       "493    0\n",
       "527    0\n",
       "168    0\n",
       "Name: Survived, Length: 623, dtype: int64"
      ]
     },
     "execution_count": 46,
     "metadata": {},
     "output_type": "execute_result"
    }
   ],
   "source": [
    "Y_train"
   ]
  },
  {
   "cell_type": "code",
   "execution_count": 47,
   "id": "cb5fe9b4",
   "metadata": {},
   "outputs": [
    {
     "data": {
      "text/plain": [
       "0.41644716496175727"
      ]
     },
     "execution_count": 47,
     "metadata": {},
     "output_type": "execute_result"
    }
   ],
   "source": [
    "lr.score(X_train , Y_train)\n"
   ]
  },
  {
   "cell_type": "code",
   "execution_count": null,
   "id": "ca63d724",
   "metadata": {},
   "outputs": [],
   "source": [
    "Thanks "
   ]
  },
  {
   "cell_type": "code",
   "execution_count": null,
   "id": "396c8b7d",
   "metadata": {},
   "outputs": [],
   "source": []
  },
  {
   "cell_type": "code",
   "execution_count": null,
   "id": "b6243647",
   "metadata": {},
   "outputs": [],
   "source": []
  }
 ],
 "metadata": {
  "kernelspec": {
   "display_name": "Python 3 (ipykernel)",
   "language": "python",
   "name": "python3"
  },
  "language_info": {
   "codemirror_mode": {
    "name": "ipython",
    "version": 3
   },
   "file_extension": ".py",
   "mimetype": "text/x-python",
   "name": "python",
   "nbconvert_exporter": "python",
   "pygments_lexer": "ipython3",
   "version": "3.9.7"
  }
 },
 "nbformat": 4,
 "nbformat_minor": 5
}
